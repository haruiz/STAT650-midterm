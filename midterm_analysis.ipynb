{
 "cells": [
  {
   "cell_type": "code",
   "execution_count": null,
   "outputs": [],
   "source": [
    "import matplotlib.pyplot as plt\n",
    "\n",
    "from utils import *"
   ],
   "metadata": {
    "collapsed": false,
    "pycharm": {
     "name": "#%%\n"
    }
   }
  },
  {
   "cell_type": "markdown",
   "source": [
    "## Loading dataset"
   ],
   "metadata": {
    "collapsed": false,
    "pycharm": {
     "name": "#%% md\n"
    }
   }
  },
  {
   "cell_type": "code",
   "execution_count": null,
   "outputs": [],
   "source": [
    "data = load_data(\"data_drop.csv\")\n",
    "columns_cookbook = load_data(\"owid-co2-codebook.csv\")"
   ],
   "metadata": {
    "collapsed": false,
    "pycharm": {
     "name": "#%%\n"
    }
   }
  },
  {
   "cell_type": "code",
   "execution_count": null,
   "outputs": [],
   "source": [
    "data.columns"
   ],
   "metadata": {
    "collapsed": false,
    "pycharm": {
     "name": "#%%\n"
    }
   }
  },
  {
   "cell_type": "code",
   "execution_count": null,
   "outputs": [],
   "source": [
    "cols_desc_dict = get_cols_description(columns_cookbook)"
   ],
   "metadata": {
    "collapsed": false,
    "pycharm": {
     "name": "#%%\n"
    }
   }
  },
  {
   "cell_type": "code",
   "execution_count": null,
   "outputs": [],
   "source": [
    "cols_desc_dict[\"co2\"]"
   ],
   "metadata": {
    "collapsed": false,
    "pycharm": {
     "name": "#%%\n"
    }
   }
  },
  {
   "cell_type": "code",
   "execution_count": null,
   "outputs": [],
   "source": [
    "data.shape"
   ],
   "metadata": {
    "collapsed": false,
    "pycharm": {
     "name": "#%%\n"
    }
   }
  },
  {
   "cell_type": "markdown",
   "source": [
    "# Exploratory Analysis"
   ],
   "metadata": {
    "collapsed": false,
    "pycharm": {
     "name": "#%% md\n"
    }
   }
  },
  {
   "cell_type": "markdown",
   "source": [
    "### Number of countries per Continent"
   ],
   "metadata": {
    "collapsed": false,
    "pycharm": {
     "name": "#%% md\n"
    }
   }
  },
  {
   "cell_type": "code",
   "execution_count": null,
   "outputs": [],
   "source": [
    "fig = plt.figure(figsize=(20, 20))\n",
    "ax = fig.add_subplot(2,1,1)\n",
    "plot_number_of_countries_by_continent(data, ax=ax)\n",
    "ax = fig.add_subplot(2,1,2)\n",
    "plot_number_observations_by_country(data, ax=ax)"
   ],
   "metadata": {
    "collapsed": false,
    "pycharm": {
     "name": "#%%\n"
    }
   }
  },
  {
   "cell_type": "code",
   "execution_count": null,
   "outputs": [],
   "source": [
    "data[data[\"continent\"] == \"South America\"][\"country\"].unique()"
   ],
   "metadata": {
    "collapsed": false,
    "pycharm": {
     "name": "#%%\n"
    }
   }
  },
  {
   "cell_type": "markdown",
   "source": [
    "### Number of observations per country"
   ],
   "metadata": {
    "collapsed": false,
    "pycharm": {
     "name": "#%% md\n"
    }
   }
  },
  {
   "cell_type": "code",
   "execution_count": null,
   "outputs": [],
   "source": [
    "data.groupby([\"continent\", \"country\"]).size().mean()"
   ],
   "metadata": {
    "collapsed": false,
    "pycharm": {
     "name": "#%%\n"
    }
   }
  },
  {
   "cell_type": "code",
   "execution_count": null,
   "outputs": [],
   "source": [
    "data.groupby(\"country\").size()"
   ],
   "metadata": {
    "collapsed": false,
    "pycharm": {
     "name": "#%%\n"
    }
   }
  },
  {
   "cell_type": "code",
   "execution_count": null,
   "outputs": [],
   "source": [
    "data.groupby([\"country\",\"year\"]).size()"
   ],
   "metadata": {
    "collapsed": false,
    "pycharm": {
     "name": "#%%\n"
    }
   }
  },
  {
   "cell_type": "code",
   "execution_count": null,
   "outputs": [],
   "source": [
    "data.groupby([\"continent\",\"country\", \"year\"]).agg(\"sum\")"
   ],
   "metadata": {
    "collapsed": false,
    "pycharm": {
     "name": "#%%\n"
    }
   }
  },
  {
   "cell_type": "code",
   "execution_count": null,
   "outputs": [],
   "source": [
    "us_data = get_observed_values_by_country(data, \"United States\")"
   ],
   "metadata": {
    "collapsed": false,
    "pycharm": {
     "name": "#%%\n"
    }
   }
  },
  {
   "cell_type": "code",
   "execution_count": null,
   "outputs": [],
   "source": [
    "us_data"
   ],
   "metadata": {
    "collapsed": false,
    "pycharm": {
     "name": "#%%\n"
    }
   }
  },
  {
   "cell_type": "markdown",
   "source": [
    "# Question 0"
   ],
   "metadata": {
    "collapsed": false,
    "pycharm": {
     "name": "#%% md\n"
    }
   }
  },
  {
   "cell_type": "markdown",
   "source": [
    "Who are the top emittors per continent?"
   ],
   "metadata": {
    "collapsed": false,
    "pycharm": {
     "name": "#%% md\n"
    }
   }
  },
  {
   "cell_type": "code",
   "execution_count": null,
   "outputs": [],
   "source": [
    "fig = plt.figure(figsize=(12, 15))\n",
    "ax = fig.add_subplot(3,2,1)\n",
    "plot_co2_emissions_by_continent(data, \"North America\", top=10, ax=ax)\n",
    "ax = fig.add_subplot(3,2,2)\n",
    "plot_co2_emissions_by_continent(data, \"South America\", top=10, ax=ax)\n",
    "ax = fig.add_subplot(3,2,3)\n",
    "plot_co2_emissions_by_continent(data, \"Asia\", top=10, ax=ax)\n",
    "ax = fig.add_subplot(3,2,4)\n",
    "plot_co2_emissions_by_continent(data, \"Europe\", top=10, ax=ax)\n",
    "ax = fig.add_subplot(3,2,5)\n",
    "plot_co2_emissions_by_continent(data, \"Africa\", top=10, ax=ax)\n",
    "ax = fig.add_subplot(3,2,6)\n",
    "plot_co2_emissions_by_continent(data, \"Oceania\", top=10, ax=ax)"
   ],
   "metadata": {
    "collapsed": false,
    "pycharm": {
     "name": "#%%\n"
    }
   }
  },
  {
   "cell_type": "code",
   "execution_count": null,
   "outputs": [],
   "source": [
    "plot_corr_heatmap(data)\n",
    "plt.title(\"Initial corr heatmap\")\n",
    "plt.savefig(f\"plots/{plt.gcf().axes[0].get_title()}.png\", bbox_inches=\"tight\")"
   ],
   "metadata": {
    "collapsed": false,
    "pycharm": {
     "name": "#%%\n"
    }
   }
  },
  {
   "cell_type": "markdown",
   "source": [
    "#### Alex Analysis"
   ],
   "metadata": {
    "collapsed": false,
    "pycharm": {
     "name": "#%% md\n"
    }
   }
  },
  {
   "cell_type": "markdown",
   "source": [
    "First, I want to assess the multicollinearity of the features to help me decide which to remove. To accomplish this, I will look at variance inflation factors, which are only defined for numeric variables. So, I will drop the categorical columns and create a new dataframe with only numeric data."
   ],
   "metadata": {
    "collapsed": false,
    "pycharm": {
     "name": "#%% md\n"
    }
   }
  },
  {
   "cell_type": "code",
   "execution_count": null,
   "outputs": [],
   "source": [
    "data.dtypes"
   ],
   "metadata": {
    "collapsed": false,
    "pycharm": {
     "name": "#%%\n"
    }
   }
  },
  {
   "cell_type": "markdown",
   "source": [
    "To compute variance inflation factors, I need to only consider numeric data. So I create a new dataframe with only the numeric data."
   ],
   "metadata": {
    "collapsed": false,
    "pycharm": {
     "name": "#%% md\n"
    }
   }
  },
  {
   "cell_type": "code",
   "execution_count": null,
   "outputs": [],
   "source": [
    "numeric_data = data.drop(['country','iso_code','continent'], axis=1)"
   ],
   "metadata": {
    "collapsed": false,
    "pycharm": {
     "name": "#%%\n"
    }
   }
  },
  {
   "cell_type": "code",
   "execution_count": null,
   "outputs": [],
   "source": [
    "from statsmodels.stats.outliers_influence import variance_inflation_factor\n",
    "\n",
    "vif_data = pd.DataFrame()\n",
    "vif_data[\"feature\"] = numeric_data.columns\n",
    "  \n",
    "# calculating VIF for each feature\n",
    "vif_data[\"VIF\"] = [variance_inflation_factor(numeric_data.values, i)\n",
    "                          for i in range(len(numeric_data.columns))]\n",
    "\n",
    "vif_data "
   ],
   "metadata": {
    "collapsed": false,
    "pycharm": {
     "name": "#%%\n"
    }
   }
  },
  {
   "cell_type": "code",
   "execution_count": null,
   "outputs": [],
   "source": [
    "vif_data[vif_data.VIF >= 500].feature.tolist()"
   ],
   "metadata": {
    "collapsed": false,
    "pycharm": {
     "name": "#%%\n"
    }
   }
  },
  {
   "cell_type": "markdown",
   "source": [
    "I'll now create a correlation map of those variables with particularly high VIFs, so that I can assess which I'd like to remove for the final analysis."
   ],
   "metadata": {
    "collapsed": false,
    "pycharm": {
     "name": "#%% md\n"
    }
   }
  },
  {
   "cell_type": "code",
   "execution_count": null,
   "outputs": [],
   "source": [
    "plot_corr_heatmap(data.loc[:, vif_data[vif_data.VIF >= 500].feature.tolist()])\n",
    "plt.title(\"High Vif Corr Heatmap\")\n",
    "plt.savefig(f\"plots/{plt.gcf().axes[0].get_title()}.png\", bbox_inches=\"tight\")"
   ],
   "metadata": {
    "collapsed": false,
    "pycharm": {
     "name": "#%%\n"
    }
   }
  },
  {
   "cell_type": "markdown",
   "source": [
    "It's unsurprising that CO2 emissions are highly correlated with cumulative CO2 and CO2 emitted from different sources. Similarly, it's unsurprising that the share of overall global CO2 is highly correlated with cumulative global share, both overall and from different sources. Since all of these variables could be considered interesting responses, I am only going to keep overall CO2 emissions and the share of global CO2 emissions, and drop the rest."
   ],
   "metadata": {
    "collapsed": false,
    "pycharm": {
     "name": "#%% md\n"
    }
   }
  },
  {
   "cell_type": "code",
   "execution_count": null,
   "outputs": [],
   "source": [
    "data = data.drop(['co2_per_capita',\n",
    "                 'coal_co2',\n",
    "                 'cumulative_co2',\n",
    "                 'cumulative_coal_co2',\n",
    "                 'cumulative_gas_co2',\n",
    "                 'cumulative_oil_co2',\n",
    "                 'gas_co2',\n",
    "                 'oil_co2',\n",
    "                 'share_global_coal_co2',\n",
    "                 'share_global_cumulative_co2',\n",
    "                 'share_global_cumulative_coal_co2',\n",
    "                 'share_global_cumulative_oil_co2',\n",
    "                 'share_global_oil_co2'], axis=1)"
   ],
   "metadata": {
    "collapsed": false,
    "pycharm": {
     "name": "#%%\n"
    }
   }
  },
  {
   "cell_type": "code",
   "execution_count": null,
   "outputs": [],
   "source": [
    "plot_corr_heatmap(data)\n",
    "plt.title(\"Low Vif Corr Heatmap\")\n",
    "plt.savefig(f\"plots/{plt.gcf().axes[0].get_title()}.png\", bbox_inches=\"tight\")"
   ],
   "metadata": {
    "collapsed": false,
    "pycharm": {
     "name": "#%%\n"
    }
   }
  },
  {
   "cell_type": "markdown",
   "source": [
    "Using this heatmap, I can also see that there are many more variables that are still parts of the CO2 whole, even though they do not have particularly high VIFs. I will remove these as well, because I am interested in total CO2 emissions rather than the composition of CO2 emissions."
   ],
   "metadata": {
    "collapsed": false,
    "pycharm": {
     "name": "#%% md\n"
    }
   }
  },
  {
   "cell_type": "code",
   "execution_count": null,
   "outputs": [],
   "source": [
    "data = data.drop(['cement_co2', 'cement_co2_per_capita', 'co2_growth_abs',\n",
    "                  'coal_co2_per_capita', 'cumulative_cement_co2', 'gas_co2_per_capita',\n",
    "                  'oil_co2_per_capita', 'share_global_cement_co2', 'share_global_co2',\n",
    "                  'share_global_cumulative_cement_co2', 'share_global_cumulative_gas_co2',\n",
    "                  'share_global_gas_co2'], axis=1)"
   ],
   "metadata": {
    "collapsed": false,
    "pycharm": {
     "name": "#%%\n"
    }
   }
  },
  {
   "cell_type": "code",
   "execution_count": null,
   "outputs": [],
   "source": [
    "plot_corr_heatmap(data)\n",
    "plt.title(\"Final Features Corr Heatmap\")\n",
    "plt.savefig(f\"plots/{plt.gcf().axes[0].get_title()}.png\", bbox_inches=\"tight\")"
   ],
   "metadata": {
    "collapsed": false,
    "pycharm": {
     "name": "#%%\n"
    }
   }
  },
  {
   "cell_type": "code",
   "execution_count": null,
   "outputs": [],
   "source": [
    "data.to_csv(\"final_data.csv\")"
   ],
   "metadata": {
    "collapsed": false,
    "pycharm": {
     "name": "#%%\n"
    }
   }
  },
  {
   "cell_type": "markdown",
   "source": [
    "Now that I've picked out only the variables that I'm interested in keeping in my analysis, I want to use the data to answer a few questions."
   ],
   "metadata": {
    "collapsed": false,
    "pycharm": {
     "name": "#%% md\n"
    }
   }
  },
  {
   "cell_type": "markdown",
   "source": [
    "### distribution of variables"
   ],
   "metadata": {
    "collapsed": false,
    "pycharm": {
     "name": "#%% md\n"
    }
   }
  },
  {
   "cell_type": "code",
   "execution_count": null,
   "outputs": [],
   "source": [
    "sns.pairplot(data.loc[:, ~data.columns.isin(['year','lat', 'long'])])\n",
    "plt.show()"
   ],
   "metadata": {
    "collapsed": false,
    "pycharm": {
     "name": "#%%\n"
    }
   }
  },
  {
   "cell_type": "markdown",
   "source": [
    "# Question 1"
   ],
   "metadata": {
    "collapsed": false,
    "pycharm": {
     "name": "#%% md\n"
    }
   }
  },
  {
   "cell_type": "markdown",
   "source": [
    "### Which countries from each continent has seen the greatest increases and decreases in CO2 efficiency from 2000 to 2018?"
   ],
   "metadata": {
    "collapsed": false,
    "pycharm": {
     "name": "#%% md\n"
    }
   }
  },
  {
   "cell_type": "markdown",
   "source": [
    "I will measure change in CO2 efficiency by looking at the percent change in `co2_per_unit_energy` from 2000 to 2018."
   ],
   "metadata": {
    "collapsed": false,
    "pycharm": {
     "name": "#%% md\n"
    }
   }
  },
  {
   "cell_type": "code",
   "execution_count": null,
   "outputs": [],
   "source": [
    "# get countries that have observations in 2000 or 2018\n",
    "data_2000 = data[data.year == 2000]\n",
    "data_2018 = data[data.year == 2018]\n",
    "\n",
    "# get list of countries that have observations in both years\n",
    "common_countries = list(set(data_2000.country) & set(data_2018.country))\n",
    "\n",
    "# stack dataframes \n",
    "data_2000_2018 = pd.concat(\n",
    "    [data_2000[[country in common_countries for country in data_2000.country]],\n",
    "    data_2018[[country in common_countries for country in data_2018.country]]]\n",
    ").sort_values(['country', 'year'])\n",
    "\n",
    "data_2000_2018"
   ],
   "metadata": {
    "collapsed": false,
    "pycharm": {
     "name": "#%%\n"
    }
   }
  },
  {
   "cell_type": "code",
   "execution_count": null,
   "outputs": [],
   "source": [
    "# group with country and continent and get percent change\n",
    "pct_change_co2_per_unit_energy = data_2000_2018.loc[:,['country','co2_per_unit_energy','continent']]\\\n",
    "                                    .groupby(['continent','country'], group_keys=True)\\\n",
    "                                    .apply(pd.Series.pct_change)\\\n",
    "                                    .dropna().reset_index().drop('level_2', axis=1)"
   ],
   "metadata": {
    "collapsed": false,
    "pycharm": {
     "name": "#%%\n"
    }
   }
  },
  {
   "cell_type": "markdown",
   "source": [
    "Here are the countries with the greatest increase in CO2 efficiency (largest % drop in CO2 per unit energy):"
   ],
   "metadata": {
    "collapsed": false,
    "pycharm": {
     "name": "#%% md\n"
    }
   }
  },
  {
   "cell_type": "code",
   "execution_count": null,
   "outputs": [],
   "source": [
    "pct_change_co2_per_unit_energy.sort_values('co2_per_unit_energy').groupby(['continent']).head(1)"
   ],
   "metadata": {
    "collapsed": false,
    "pycharm": {
     "name": "#%%\n"
    }
   }
  },
  {
   "cell_type": "code",
   "execution_count": null,
   "outputs": [],
   "source": [
    "sns.lineplot(data=data[[country in ['Hong Kong', 'North Macedonia', 'Nigeria', 'Peru', 'Mexico', 'Australia']\n",
    "                       for country in data.country.tolist()]][data.year >= 2000],\n",
    "             x='year', y='co2_per_unit_energy', hue='country')\n",
    "plt.title('Countries with greatest reduction in CO2 per unit energy')\n",
    "plt.ylabel('CO2 per unit energy')\n",
    "plt.legend(bbox_to_anchor=(1.35, 1.05))\n",
    "plt.savefig(f\"plots/{plt.gcf().axes[0].get_title()}.png\", bbox_inches=\"tight\")\n",
    "plt.show()"
   ],
   "metadata": {
    "collapsed": false,
    "pycharm": {
     "name": "#%%\n"
    }
   }
  },
  {
   "cell_type": "markdown",
   "source": [
    "And here are the countries with the smallest increase (or decrease) in CO2 efficiency:"
   ],
   "metadata": {
    "collapsed": false,
    "pycharm": {
     "name": "#%% md\n"
    }
   }
  },
  {
   "cell_type": "code",
   "execution_count": null,
   "outputs": [],
   "source": [
    "pct_change_co2_per_unit_energy.sort_values('co2_per_unit_energy', ascending=False).groupby(['continent']).head(1)"
   ],
   "metadata": {
    "collapsed": false,
    "pycharm": {
     "name": "#%%\n"
    }
   }
  },
  {
   "cell_type": "code",
   "execution_count": null,
   "outputs": [],
   "source": [
    "sns.lineplot(data=data[[country in ['Tajikistan', 'Bosnia and Herzegovina', 'South Africa', 'New Zealand', 'Chile', 'Canada']\n",
    "                       for country in data.country.tolist()]][data.year >= 2000],\n",
    "             x='year', y='co2_per_unit_energy', hue='country')\n",
    "plt.title('Countries with least reduction in CO2 per unit energy')\n",
    "plt.ylabel('CO2 per unit energy')\n",
    "plt.legend(bbox_to_anchor=(1.0, 1.05))\n",
    "plt.savefig(f\"plots/{plt.gcf().axes[0].get_title()}.png\", bbox_inches=\"tight\")\n",
    "plt.show()"
   ],
   "metadata": {
    "collapsed": false,
    "pycharm": {
     "name": "#%%\n"
    }
   }
  },
  {
   "cell_type": "markdown",
   "source": [
    "# Question 2"
   ],
   "metadata": {
    "collapsed": false,
    "pycharm": {
     "name": "#%% md\n"
    }
   }
  },
  {
   "cell_type": "markdown",
   "source": [
    "### What is the relationship between population and CO2 emission?"
   ],
   "metadata": {
    "collapsed": false,
    "pycharm": {
     "name": "#%% md\n"
    }
   }
  },
  {
   "cell_type": "markdown",
   "source": [
    "First, we will look at the relationship between population and CO2 emissions for all countries that had measurements in 2018."
   ],
   "metadata": {
    "collapsed": false,
    "pycharm": {
     "name": "#%% md\n"
    }
   }
  },
  {
   "cell_type": "code",
   "execution_count": null,
   "outputs": [],
   "source": [
    "data_2018 = data[data.year == 2018]\n",
    "\n",
    "sns.scatterplot(data=data_2018, x='population', y='co2')\n",
    "plt.xlabel(\"Population\")\n",
    "plt.ylabel(\"CO2 Emissions\")\n",
    "plt.title(\"Emissions vs. Population in 2018\")\n",
    "plt.savefig(f\"plots/{plt.gcf().axes[0].get_title()}.png\", bbox_inches=\"tight\")\n",
    "plt.show()"
   ],
   "metadata": {
    "collapsed": false,
    "pycharm": {
     "name": "#%%\n"
    }
   }
  },
  {
   "cell_type": "markdown",
   "source": [
    "Since this plot has some very clear outliers, unequal variances across the range of the data, and a positive relationship, we will try a log-log transformation."
   ],
   "metadata": {
    "collapsed": false,
    "pycharm": {
     "name": "#%% md\n"
    }
   }
  },
  {
   "cell_type": "code",
   "execution_count": null,
   "outputs": [],
   "source": [
    "import copy"
   ],
   "metadata": {
    "collapsed": false,
    "pycharm": {
     "name": "#%%\n"
    }
   }
  },
  {
   "cell_type": "code",
   "execution_count": null,
   "outputs": [],
   "source": [
    "data_2018_loglog = copy.copy(data_2018)\n",
    "data_2018_loglog['population'] = np.log(data_2018_loglog['population'])\n",
    "data_2018_loglog['co2'] = np.log(data_2018_loglog['co2'])\n",
    "\n",
    "sns.scatterplot(data=data_2018_loglog, x='population', y='co2')\n",
    "plt.xlabel(\"Log Population\")\n",
    "plt.ylabel(\"Log CO2 Emissions\")\n",
    "plt.title(\"Log-Log Emissions vs. Population in 2018\")\n",
    "plt.savefig(f\"plots/{plt.gcf().axes[0].get_title()}.png\", bbox_inches=\"tight\")\n",
    "plt.show()"
   ],
   "metadata": {
    "collapsed": false,
    "pycharm": {
     "name": "#%%\n"
    }
   }
  },
  {
   "cell_type": "markdown",
   "source": [
    "Now that we have a linear, equal-variance relationship to learn, we can do linear regression and use the learned parameters to answer questions about the relationship between population and CO2 emissions."
   ],
   "metadata": {
    "collapsed": false,
    "pycharm": {
     "name": "#%% md\n"
    }
   }
  },
  {
   "cell_type": "code",
   "execution_count": null,
   "outputs": [],
   "source": [
    "from sklearn import linear_model\n",
    "regressor = linear_model.LinearRegression()\n",
    "regressor.fit(data_2018_loglog['population'].values.reshape(-1,1),\n",
    "              data_2018_loglog['co2'].values.reshape(-1,1))"
   ],
   "metadata": {
    "collapsed": false,
    "pycharm": {
     "name": "#%%\n"
    }
   }
  },
  {
   "cell_type": "code",
   "execution_count": null,
   "outputs": [],
   "source": [
    "regressor.coef_"
   ],
   "metadata": {
    "collapsed": false,
    "pycharm": {
     "name": "#%%\n"
    }
   }
  },
  {
   "cell_type": "markdown",
   "source": [
    "Because we used a log-log regression model, the interpretation of the model parameters is different than with an ordinary linear regression model. In this case, we see that in 2018, a country with 8.9% more people than another produced 10% more CO2 on average."
   ],
   "metadata": {
    "collapsed": false,
    "pycharm": {
     "name": "#%% md\n"
    }
   }
  },
  {
   "cell_type": "markdown",
   "source": [
    "Lastly, we can plot the learned linear model and a 95% confidence interval on the slope."
   ],
   "metadata": {
    "collapsed": false,
    "pycharm": {
     "name": "#%% md\n"
    }
   }
  },
  {
   "cell_type": "code",
   "execution_count": null,
   "outputs": [],
   "source": [
    "sns.regplot(data=data_2018_loglog, x='population', y='co2')\n",
    "plt.xlabel(\"Log Population\")\n",
    "plt.ylabel(\"Log CO2 Emissions\")\n",
    "plt.title(\"Log-Log Emissions vs. Population in 2018 w. Trend Line\")\n",
    "plt.savefig(f\"plots/{plt.gcf().axes[0].get_title()}.png\", bbox_inches=\"tight\")\n",
    "plt.show()"
   ],
   "metadata": {
    "collapsed": false,
    "pycharm": {
     "name": "#%%\n"
    }
   }
  },
  {
   "cell_type": "markdown",
   "source": [
    "# Question 3"
   ],
   "metadata": {
    "collapsed": false,
    "pycharm": {
     "name": "#%% md\n"
    }
   }
  },
  {
   "cell_type": "markdown",
   "source": [
    "### What is the relationship between GDP and CO2 emissions?"
   ],
   "metadata": {
    "collapsed": false,
    "pycharm": {
     "name": "#%% md\n"
    }
   }
  },
  {
   "cell_type": "code",
   "execution_count": null,
   "outputs": [],
   "source": [
    "sns.scatterplot(data=data_2018, x='gdp', y='co2')\n",
    "plt.xlabel(\"GDP\")\n",
    "plt.ylabel(\"CO2 Emissions\")\n",
    "plt.title(\"Emissions vs. GDP in 2018\")\n",
    "plt.savefig(f\"plots/{plt.gcf().axes[0].get_title()}.png\", bbox_inches=\"tight\")\n",
    "plt.show()"
   ],
   "metadata": {
    "collapsed": false,
    "pycharm": {
     "name": "#%%\n"
    }
   }
  },
  {
   "cell_type": "markdown",
   "source": [
    "Again, the log-log transform is appropriate."
   ],
   "metadata": {
    "collapsed": false,
    "pycharm": {
     "name": "#%% md\n"
    }
   }
  },
  {
   "cell_type": "code",
   "execution_count": null,
   "outputs": [],
   "source": [
    "data_2018_loglog['gdp'] = np.log(data_2018_loglog['gdp'])\n",
    "\n",
    "sns.scatterplot(data=data_2018_loglog, x='gdp', y='co2')\n",
    "plt.xlabel(\"Log GDP\")\n",
    "plt.ylabel(\"Log CO2 Emissions\")\n",
    "plt.title(\"Log-Log CO2 Emissions vs. GDP in 2018\")\n",
    "plt.savefig(f\"plots/{plt.gcf().axes[0].get_title()}.png\", bbox_inches=\"tight\")\n",
    "plt.show()"
   ],
   "metadata": {
    "collapsed": false,
    "pycharm": {
     "name": "#%%\n"
    }
   }
  },
  {
   "cell_type": "code",
   "execution_count": null,
   "outputs": [],
   "source": [
    "regressor = linear_model.LinearRegression()\n",
    "regressor.fit(data_2018_loglog['gdp'].values.reshape(-1,1),\n",
    "              data_2018_loglog['co2'].values.reshape(-1,1))"
   ],
   "metadata": {
    "collapsed": false,
    "pycharm": {
     "name": "#%%\n"
    }
   }
  },
  {
   "cell_type": "code",
   "execution_count": null,
   "outputs": [],
   "source": [
    "regressor.coef_"
   ],
   "metadata": {
    "collapsed": false,
    "pycharm": {
     "name": "#%%\n"
    }
   }
  },
  {
   "cell_type": "markdown",
   "source": [
    "This learned model parameter indicates that in 2018, countries with a 10.2% higher GDP than others contributed 10% more CO2 on average."
   ],
   "metadata": {
    "collapsed": false,
    "pycharm": {
     "name": "#%% md\n"
    }
   }
  },
  {
   "cell_type": "code",
   "execution_count": null,
   "outputs": [],
   "source": [
    "sns.regplot(data=data_2018_loglog, x='gdp', y='co2')\n",
    "plt.xlabel(\"Log GDP\")\n",
    "plt.ylabel(\"Log CO2 Emissions\")\n",
    "plt.title(\"Log-Log CO2 Emissions vs. GDP in 2018 w. Trend Line\")\n",
    "plt.savefig(f\"plots/{plt.gcf().axes[0].get_title()}.png\", bbox_inches=\"tight\")\n",
    "plt.show()"
   ],
   "metadata": {
    "collapsed": false,
    "pycharm": {
     "name": "#%%\n"
    }
   }
  },
  {
   "cell_type": "code",
   "execution_count": 45,
   "metadata": {
    "pycharm": {
     "name": "#%%\n"
    }
   },
   "outputs": [
    {
     "data": {
      "text/plain": "<Figure size 640x480 with 1 Axes>",
      "image/png": "[encoded data removed]"
     },
     "metadata": {},
     "output_type": "display_data"
    }
   ],
   "source": [
    "sns.regplot(data=data_2018_loglog, x='gdp', y='co2')\n",
    "plt.xlabel(\"Log GDP\")\n",
    "plt.ylabel(\"Log CO2 Emissions\")\n",
    "plt.title(\"Log-Log CO2 Emissions vs. GDP in 2018 w. Trend Line\")\n",
    "plt.savefig(f\"plots/{plt.gcf().axes[0].get_title()}.png\", bbox_inches=\"tight\")\n",
    "plt.show()"
   ]
  }
 ],
 "metadata": {
  "kernelspec": {
   "display_name": "Python 3 (ipykernel)",
   "language": "python",
   "name": "python3"
  },
  "language_info": {
   "codemirror_mode": {
    "name": "ipython",
    "version": 3
   },
   "file_extension": ".py",
   "mimetype": "text/x-python",
   "name": "python",
   "nbconvert_exporter": "python",
   "pygments_lexer": "ipython3",
   "version": "3.10.7"
  }
 },
 "nbformat": 4,
 "nbformat_minor": 1
}
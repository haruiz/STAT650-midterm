{
 "cells": [
  {
   "cell_type": "code",
   "execution_count": 19,
   "metadata": {
    "collapsed": true,
    "pycharm": {
     "name": "#%%\n"
    }
   },
   "outputs": [],
   "source": [
    "from utils import *"
   ]
  },
  {
   "cell_type": "markdown",
   "source": [
    "### Load data and prepare dataset for processing"
   ],
   "metadata": {
    "collapsed": false,
    "pycharm": {
     "name": "#%% md\n"
    }
   }
  },
  {
   "cell_type": "code",
   "execution_count": 18,
   "outputs": [],
   "source": [
    "data = load_data(\"https://raw.githubusercontent.com/owid/co2-data/master/owid-co2-data.csv\")\n",
    "columns_cookbook = load_data(\"https://raw.githubusercontent.com/owid/co2-data/master/owid-co2-codebook.csv\")"
   ],
   "metadata": {
    "collapsed": false,
    "pycharm": {
     "name": "#%%\n"
    }
   }
  },
  {
   "cell_type": "code",
   "execution_count": 20,
   "outputs": [
    {
     "data": {
      "text/plain": "(26008, 60)"
     },
     "execution_count": 20,
     "metadata": {},
     "output_type": "execute_result"
    }
   ],
   "source": [
    "data.shape"
   ],
   "metadata": {
    "collapsed": false,
    "pycharm": {
     "name": "#%%\n"
    }
   }
  },
  {
   "cell_type": "code",
   "execution_count": 3,
   "outputs": [
    {
     "data": {
      "text/plain": "Index(['column', 'description', 'source'], dtype='object')"
     },
     "execution_count": 3,
     "metadata": {},
     "output_type": "execute_result"
    }
   ],
   "source": [
    "columns_cookbook.columns"
   ],
   "metadata": {
    "collapsed": false,
    "pycharm": {
     "name": "#%%\n"
    }
   }
  },
  {
   "cell_type": "code",
   "execution_count": 4,
   "outputs": [],
   "source": [
    "data_subset = filter_data_based_on_missing_values(data, threshold=0.7)\n",
    "cols_desc_dict = get_cols_description(data_subset, columns_cookbook)"
   ],
   "metadata": {
    "collapsed": false,
    "pycharm": {
     "name": "#%%\n"
    }
   }
  },
  {
   "cell_type": "code",
   "execution_count": 5,
   "outputs": [
    {
     "name": "stdout",
     "output_type": "stream",
     "text": [
      "<class 'pandas.core.frame.DataFrame'>\n",
      "RangeIndex: 26008 entries, 0 to 26007\n",
      "Data columns (total 36 columns):\n",
      " #   Column                              Non-Null Count  Dtype  \n",
      "---  ------                              --------------  -----  \n",
      " 0   country                             26008 non-null  object \n",
      " 1   year                                26008 non-null  int64  \n",
      " 2   iso_code                            21913 non-null  object \n",
      " 3   population                          23878 non-null  float64\n",
      " 4   gdp                                 13479 non-null  float64\n",
      " 5   cement_co2                          12668 non-null  float64\n",
      " 6   cement_co2_per_capita               12638 non-null  float64\n",
      " 7   co2                                 24670 non-null  float64\n",
      " 8   co2_growth_abs                      24294 non-null  float64\n",
      " 9   co2_growth_prct                     25696 non-null  float64\n",
      " 10  co2_per_capita                      24032 non-null  float64\n",
      " 11  co2_per_gdp                         15851 non-null  float64\n",
      " 12  co2_per_unit_energy                 9958 non-null   float64\n",
      " 13  coal_co2                            17909 non-null  float64\n",
      " 14  coal_co2_per_capita                 17536 non-null  float64\n",
      " 15  cumulative_cement_co2               12668 non-null  float64\n",
      " 16  cumulative_co2                      24670 non-null  float64\n",
      " 17  cumulative_coal_co2                 17909 non-null  float64\n",
      " 18  cumulative_gas_co2                  9245 non-null   float64\n",
      " 19  cumulative_oil_co2                  21100 non-null  float64\n",
      " 20  energy_per_capita                   9773 non-null   float64\n",
      " 21  gas_co2                             9245 non-null   float64\n",
      " 22  gas_co2_per_capita                  9235 non-null   float64\n",
      " 23  oil_co2                             21100 non-null  float64\n",
      " 24  oil_co2_per_capita                  20791 non-null  float64\n",
      " 25  primary_energy_consumption          9825 non-null   float64\n",
      " 26  share_global_cement_co2             12668 non-null  float64\n",
      " 27  share_global_co2                    24670 non-null  float64\n",
      " 28  share_global_coal_co2               17909 non-null  float64\n",
      " 29  share_global_cumulative_cement_co2  12668 non-null  float64\n",
      " 30  share_global_cumulative_co2         24670 non-null  float64\n",
      " 31  share_global_cumulative_coal_co2    17909 non-null  float64\n",
      " 32  share_global_cumulative_gas_co2     9245 non-null   float64\n",
      " 33  share_global_cumulative_oil_co2     21100 non-null  float64\n",
      " 34  share_global_gas_co2                9245 non-null   float64\n",
      " 35  share_global_oil_co2                21100 non-null  float64\n",
      "dtypes: float64(33), int64(1), object(2)\n",
      "memory usage: 7.1+ MB\n"
     ]
    }
   ],
   "source": [
    "data_subset.info()"
   ],
   "metadata": {
    "collapsed": false,
    "pycharm": {
     "name": "#%%\n"
    }
   }
  },
  {
   "cell_type": "code",
   "execution_count": 6,
   "outputs": [
    {
     "data": {
      "text/plain": "'Annual production-based emissions of carbon dioxide (CO2), measured in million tonnes. This is based on territorial emissions, which do not account for emissions embedded in traded goods.'"
     },
     "execution_count": 6,
     "metadata": {},
     "output_type": "execute_result"
    }
   ],
   "source": [
    "cols_desc_dict[\"co2\"]"
   ],
   "metadata": {
    "collapsed": false,
    "pycharm": {
     "name": "#%%\n"
    }
   }
  },
  {
   "cell_type": "code",
   "execution_count": 7,
   "outputs": [
    {
     "data": {
      "text/plain": "'Population of each country or region.'"
     },
     "execution_count": 7,
     "metadata": {},
     "output_type": "execute_result"
    }
   ],
   "source": [
    "cols_desc_dict[\"population\"]"
   ],
   "metadata": {
    "collapsed": false,
    "pycharm": {
     "name": "#%%\n"
    }
   }
  },
  {
   "cell_type": "code",
   "execution_count": 8,
   "outputs": [
    {
     "data": {
      "text/plain": "247"
     },
     "execution_count": 8,
     "metadata": {},
     "output_type": "execute_result"
    }
   ],
   "source": [
    "data_subset[\"country\"].unique().size"
   ],
   "metadata": {
    "collapsed": false,
    "pycharm": {
     "name": "#%%\n"
    }
   }
  },
  {
   "cell_type": "code",
   "execution_count": 9,
   "outputs": [
    {
     "data": {
      "text/plain": "country\nEurope (excl. EU-27)     271\nHigh-income countries    271\nWorld                    271\nEuropean Union (28)      271\nUnited Kingdom           271\n                        ... \nNamibia                   31\nPalestine                 31\nKuwaiti Oil Fires         30\nWallis and Futuna         20\nKosovo                    13\nLength: 247, dtype: int64"
     },
     "execution_count": 9,
     "metadata": {},
     "output_type": "execute_result"
    }
   ],
   "source": [
    "data_subset.groupby(\"country\").size().sort_values(ascending=False)"
   ],
   "metadata": {
    "collapsed": false,
    "pycharm": {
     "name": "#%%\n"
    }
   }
  },
  {
   "cell_type": "code",
   "execution_count": 10,
   "outputs": [
    {
     "data": {
      "text/plain": "                  population           gdp  cement_co2  cement_co2_per_capita  \\\ncountry     year                                                                \nAfghanistan 1949   7624058.0  0.000000e+00       0.000                  0.000   \n            1950   7752117.0  9.421400e+09       0.000                  0.000   \n            1951   7840151.0  9.692280e+09       0.000                  0.000   \n            1952   7935996.0  1.001733e+10       0.000                  0.000   \n            1953   8039684.0  1.063052e+10       0.000                  0.000   \n...                      ...           ...         ...                    ...   \nZimbabwe    2016  14030338.0  2.096179e+10       0.639                  0.046   \n            2017  14236599.0  2.194784e+10       0.678                  0.048   \n            2018  14438812.0  2.271535e+10       0.697                  0.048   \n            2019  14645473.0  0.000000e+00       0.697                  0.048   \n            2020  14862927.0  0.000000e+00       0.697                  0.047   \n\n                     co2  co2_growth_abs  co2_growth_prct  co2_per_capita  \\\ncountry     year                                                            \nAfghanistan 1949   0.015           0.000             0.00           0.002   \n            1950   0.084           0.070           475.00           0.011   \n            1951   0.092           0.007             8.70           0.012   \n            1952   0.092           0.000             0.00           0.012   \n            1953   0.106           0.015            16.00           0.013   \n...                  ...             ...              ...             ...   \nZimbabwe    2016  10.738          -1.488           -12.17           0.765   \n            2017   9.582          -1.156           -10.77           0.673   \n            2018  11.854           2.273            23.72           0.821   \n            2019  10.949          -0.905            -7.64           0.748   \n            2020  10.531          -0.418            -3.82           0.709   \n\n                  co2_per_gdp  co2_per_unit_energy  ...  \\\ncountry     year                                    ...   \nAfghanistan 1949        0.000                0.000  ...   \n            1950        0.009                0.000  ...   \n            1951        0.009                0.000  ...   \n            1952        0.009                0.000  ...   \n            1953        0.010                0.000  ...   \n...                       ...                  ...  ...   \nZimbabwe    2016        0.512                0.230  ...   \n            2017        0.437                0.209  ...   \n            2018        0.522                0.250  ...   \n            2019        0.000                0.221  ...   \n            2020        0.000                0.000  ...   \n\n                  share_global_cement_co2  share_global_co2  \\\ncountry     year                                              \nAfghanistan 1949                     0.00              0.00   \n            1950                     0.00              0.00   \n            1951                     0.00              0.00   \n            1952                     0.00              0.00   \n            1953                     0.00              0.00   \n...                                   ...               ...   \nZimbabwe    2016                     0.04              0.03   \n            2017                     0.05              0.03   \n            2018                     0.04              0.03   \n            2019                     0.04              0.03   \n            2020                     0.04              0.03   \n\n                  share_global_coal_co2  share_global_cumulative_cement_co2  \\\ncountry     year                                                              \nAfghanistan 1949                   0.00                                0.00   \n            1950                   0.00                                0.00   \n            1951                   0.00                                0.00   \n            1952                   0.00                                0.00   \n            1953                   0.00                                0.00   \n...                                 ...                                 ...   \nZimbabwe    2016                   0.05                                0.05   \n            2017                   0.04                                0.05   \n            2018                   0.05                                0.05   \n            2019                   0.04                                0.05   \n            2020                   0.04                                0.05   \n\n                  share_global_cumulative_co2  \\\ncountry     year                                \nAfghanistan 1949                         0.00   \n            1950                         0.00   \n            1951                         0.00   \n            1952                         0.00   \n            1953                         0.00   \n...                                       ...   \nZimbabwe    2016                         0.05   \n            2017                         0.05   \n            2018                         0.05   \n            2019                         0.05   \n            2020                         0.05   \n\n                  share_global_cumulative_coal_co2  \\\ncountry     year                                     \nAfghanistan 1949                              0.00   \n            1950                              0.00   \n            1951                              0.00   \n            1952                              0.00   \n            1953                              0.00   \n...                                            ...   \nZimbabwe    2016                              0.08   \n            2017                              0.08   \n            2018                              0.08   \n            2019                              0.08   \n            2020                              0.08   \n\n                  share_global_cumulative_gas_co2  \\\ncountry     year                                    \nAfghanistan 1949                              0.0   \n            1950                              0.0   \n            1951                              0.0   \n            1952                              0.0   \n            1953                              0.0   \n...                                           ...   \nZimbabwe    2016                              0.0   \n            2017                              0.0   \n            2018                              0.0   \n            2019                              0.0   \n            2020                              0.0   \n\n                  share_global_cumulative_oil_co2  share_global_gas_co2  \\\ncountry     year                                                          \nAfghanistan 1949                             0.00                   0.0   \n            1950                             0.00                   0.0   \n            1951                             0.00                   0.0   \n            1952                             0.00                   0.0   \n            1953                             0.00                   0.0   \n...                                           ...                   ...   \nZimbabwe    2016                             0.02                   0.0   \n            2017                             0.02                   0.0   \n            2018                             0.02                   0.0   \n            2019                             0.02                   0.0   \n            2020                             0.03                   0.0   \n\n                  share_global_oil_co2  \ncountry     year                        \nAfghanistan 1949                  0.00  \n            1950                  0.00  \n            1951                  0.00  \n            1952                  0.00  \n            1953                  0.00  \n...                                ...  \nZimbabwe    2016                  0.03  \n            2017                  0.03  \n            2018                  0.03  \n            2019                  0.03  \n            2020                  0.03  \n\n[26008 rows x 33 columns]",
      "text/html": "<div>\n<style scoped>\n    .dataframe tbody tr th:only-of-type {\n        vertical-align: middle;\n    }\n\n    .dataframe tbody tr th {\n        vertical-align: top;\n    }\n\n    .dataframe thead th {\n        text-align: right;\n    }\n</style>\n<table border=\"1\" class=\"dataframe\">\n  <thead>\n    <tr style=\"text-align: right;\">\n      <th></th>\n      <th></th>\n      <th>population</th>\n      <th>gdp</th>\n      <th>cement_co2</th>\n      <th>cement_co2_per_capita</th>\n      <th>co2</th>\n      <th>co2_growth_abs</th>\n      <th>co2_growth_prct</th>\n      <th>co2_per_capita</th>\n      <th>co2_per_gdp</th>\n      <th>co2_per_unit_energy</th>\n      <th>...</th>\n      <th>share_global_cement_co2</th>\n      <th>share_global_co2</th>\n      <th>share_global_coal_co2</th>\n      <th>share_global_cumulative_cement_co2</th>\n      <th>share_global_cumulative_co2</th>\n      <th>share_global_cumulative_coal_co2</th>\n      <th>share_global_cumulative_gas_co2</th>\n      <th>share_global_cumulative_oil_co2</th>\n      <th>share_global_gas_co2</th>\n      <th>share_global_oil_co2</th>\n    </tr>\n    <tr>\n      <th>country</th>\n      <th>year</th>\n      <th></th>\n      <th></th>\n      <th></th>\n      <th></th>\n      <th></th>\n      <th></th>\n      <th></th>\n      <th></th>\n      <th></th>\n      <th></th>\n      <th></th>\n      <th></th>\n      <th></th>\n      <th></th>\n      <th></th>\n      <th></th>\n      <th></th>\n      <th></th>\n      <th></th>\n      <th></th>\n      <th></th>\n    </tr>\n  </thead>\n  <tbody>\n    <tr>\n      <th rowspan=\"5\" valign=\"top\">Afghanistan</th>\n      <th>1949</th>\n      <td>7624058.0</td>\n      <td>0.000000e+00</td>\n      <td>0.000</td>\n      <td>0.000</td>\n      <td>0.015</td>\n      <td>0.000</td>\n      <td>0.00</td>\n      <td>0.002</td>\n      <td>0.000</td>\n      <td>0.000</td>\n      <td>...</td>\n      <td>0.00</td>\n      <td>0.00</td>\n      <td>0.00</td>\n      <td>0.00</td>\n      <td>0.00</td>\n      <td>0.00</td>\n      <td>0.0</td>\n      <td>0.00</td>\n      <td>0.0</td>\n      <td>0.00</td>\n    </tr>\n    <tr>\n      <th>1950</th>\n      <td>7752117.0</td>\n      <td>9.421400e+09</td>\n      <td>0.000</td>\n      <td>0.000</td>\n      <td>0.084</td>\n      <td>0.070</td>\n      <td>475.00</td>\n      <td>0.011</td>\n      <td>0.009</td>\n      <td>0.000</td>\n      <td>...</td>\n      <td>0.00</td>\n      <td>0.00</td>\n      <td>0.00</td>\n      <td>0.00</td>\n      <td>0.00</td>\n      <td>0.00</td>\n      <td>0.0</td>\n      <td>0.00</td>\n      <td>0.0</td>\n      <td>0.00</td>\n    </tr>\n    <tr>\n      <th>1951</th>\n      <td>7840151.0</td>\n      <td>9.692280e+09</td>\n      <td>0.000</td>\n      <td>0.000</td>\n      <td>0.092</td>\n      <td>0.007</td>\n      <td>8.70</td>\n      <td>0.012</td>\n      <td>0.009</td>\n      <td>0.000</td>\n      <td>...</td>\n      <td>0.00</td>\n      <td>0.00</td>\n      <td>0.00</td>\n      <td>0.00</td>\n      <td>0.00</td>\n      <td>0.00</td>\n      <td>0.0</td>\n      <td>0.00</td>\n      <td>0.0</td>\n      <td>0.00</td>\n    </tr>\n    <tr>\n      <th>1952</th>\n      <td>7935996.0</td>\n      <td>1.001733e+10</td>\n      <td>0.000</td>\n      <td>0.000</td>\n      <td>0.092</td>\n      <td>0.000</td>\n      <td>0.00</td>\n      <td>0.012</td>\n      <td>0.009</td>\n      <td>0.000</td>\n      <td>...</td>\n      <td>0.00</td>\n      <td>0.00</td>\n      <td>0.00</td>\n      <td>0.00</td>\n      <td>0.00</td>\n      <td>0.00</td>\n      <td>0.0</td>\n      <td>0.00</td>\n      <td>0.0</td>\n      <td>0.00</td>\n    </tr>\n    <tr>\n      <th>1953</th>\n      <td>8039684.0</td>\n      <td>1.063052e+10</td>\n      <td>0.000</td>\n      <td>0.000</td>\n      <td>0.106</td>\n      <td>0.015</td>\n      <td>16.00</td>\n      <td>0.013</td>\n      <td>0.010</td>\n      <td>0.000</td>\n      <td>...</td>\n      <td>0.00</td>\n      <td>0.00</td>\n      <td>0.00</td>\n      <td>0.00</td>\n      <td>0.00</td>\n      <td>0.00</td>\n      <td>0.0</td>\n      <td>0.00</td>\n      <td>0.0</td>\n      <td>0.00</td>\n    </tr>\n    <tr>\n      <th>...</th>\n      <th>...</th>\n      <td>...</td>\n      <td>...</td>\n      <td>...</td>\n      <td>...</td>\n      <td>...</td>\n      <td>...</td>\n      <td>...</td>\n      <td>...</td>\n      <td>...</td>\n      <td>...</td>\n      <td>...</td>\n      <td>...</td>\n      <td>...</td>\n      <td>...</td>\n      <td>...</td>\n      <td>...</td>\n      <td>...</td>\n      <td>...</td>\n      <td>...</td>\n      <td>...</td>\n      <td>...</td>\n    </tr>\n    <tr>\n      <th rowspan=\"5\" valign=\"top\">Zimbabwe</th>\n      <th>2016</th>\n      <td>14030338.0</td>\n      <td>2.096179e+10</td>\n      <td>0.639</td>\n      <td>0.046</td>\n      <td>10.738</td>\n      <td>-1.488</td>\n      <td>-12.17</td>\n      <td>0.765</td>\n      <td>0.512</td>\n      <td>0.230</td>\n      <td>...</td>\n      <td>0.04</td>\n      <td>0.03</td>\n      <td>0.05</td>\n      <td>0.05</td>\n      <td>0.05</td>\n      <td>0.08</td>\n      <td>0.0</td>\n      <td>0.02</td>\n      <td>0.0</td>\n      <td>0.03</td>\n    </tr>\n    <tr>\n      <th>2017</th>\n      <td>14236599.0</td>\n      <td>2.194784e+10</td>\n      <td>0.678</td>\n      <td>0.048</td>\n      <td>9.582</td>\n      <td>-1.156</td>\n      <td>-10.77</td>\n      <td>0.673</td>\n      <td>0.437</td>\n      <td>0.209</td>\n      <td>...</td>\n      <td>0.05</td>\n      <td>0.03</td>\n      <td>0.04</td>\n      <td>0.05</td>\n      <td>0.05</td>\n      <td>0.08</td>\n      <td>0.0</td>\n      <td>0.02</td>\n      <td>0.0</td>\n      <td>0.03</td>\n    </tr>\n    <tr>\n      <th>2018</th>\n      <td>14438812.0</td>\n      <td>2.271535e+10</td>\n      <td>0.697</td>\n      <td>0.048</td>\n      <td>11.854</td>\n      <td>2.273</td>\n      <td>23.72</td>\n      <td>0.821</td>\n      <td>0.522</td>\n      <td>0.250</td>\n      <td>...</td>\n      <td>0.04</td>\n      <td>0.03</td>\n      <td>0.05</td>\n      <td>0.05</td>\n      <td>0.05</td>\n      <td>0.08</td>\n      <td>0.0</td>\n      <td>0.02</td>\n      <td>0.0</td>\n      <td>0.03</td>\n    </tr>\n    <tr>\n      <th>2019</th>\n      <td>14645473.0</td>\n      <td>0.000000e+00</td>\n      <td>0.697</td>\n      <td>0.048</td>\n      <td>10.949</td>\n      <td>-0.905</td>\n      <td>-7.64</td>\n      <td>0.748</td>\n      <td>0.000</td>\n      <td>0.221</td>\n      <td>...</td>\n      <td>0.04</td>\n      <td>0.03</td>\n      <td>0.04</td>\n      <td>0.05</td>\n      <td>0.05</td>\n      <td>0.08</td>\n      <td>0.0</td>\n      <td>0.02</td>\n      <td>0.0</td>\n      <td>0.03</td>\n    </tr>\n    <tr>\n      <th>2020</th>\n      <td>14862927.0</td>\n      <td>0.000000e+00</td>\n      <td>0.697</td>\n      <td>0.047</td>\n      <td>10.531</td>\n      <td>-0.418</td>\n      <td>-3.82</td>\n      <td>0.709</td>\n      <td>0.000</td>\n      <td>0.000</td>\n      <td>...</td>\n      <td>0.04</td>\n      <td>0.03</td>\n      <td>0.04</td>\n      <td>0.05</td>\n      <td>0.05</td>\n      <td>0.08</td>\n      <td>0.0</td>\n      <td>0.03</td>\n      <td>0.0</td>\n      <td>0.03</td>\n    </tr>\n  </tbody>\n</table>\n<p>26008 rows × 33 columns</p>\n</div>"
     },
     "execution_count": 10,
     "metadata": {},
     "output_type": "execute_result"
    }
   ],
   "source": [
    "data_subset.groupby(by=[\"country\", \"year\"]).agg(\"sum\")"
   ],
   "metadata": {
    "collapsed": false,
    "pycharm": {
     "name": "#%%\n"
    }
   }
  },
  {
   "cell_type": "code",
   "execution_count": 11,
   "outputs": [
    {
     "name": "stdout",
     "output_type": "stream",
     "text": [
      "Country(alpha_2='AF', alpha_3='AFG', flag='🇦🇫', name='Afghanistan', numeric='004', official_name='Islamic Republic of Afghanistan')\n",
      "None\n",
      "Country(alpha_2='AL', alpha_3='ALB', flag='🇦🇱', name='Albania', numeric='008', official_name='Republic of Albania')\n",
      "Country(alpha_2='DZ', alpha_3='DZA', flag='🇩🇿', name='Algeria', numeric='012', official_name=\"People's Democratic Republic of Algeria\")\n",
      "Country(alpha_2='AD', alpha_3='AND', flag='🇦🇩', name='Andorra', numeric='020', official_name='Principality of Andorra')\n",
      "Country(alpha_2='AO', alpha_3='AGO', flag='🇦🇴', name='Angola', numeric='024', official_name='Republic of Angola')\n",
      "Country(alpha_2='AI', alpha_3='AIA', flag='🇦🇮', name='Anguilla', numeric='660')\n",
      "Country(alpha_2='AQ', alpha_3='ATA', flag='🇦🇶', name='Antarctica', numeric='010')\n",
      "Country(alpha_2='AG', alpha_3='ATG', flag='🇦🇬', name='Antigua and Barbuda', numeric='028')\n",
      "Country(alpha_2='AR', alpha_3='ARG', flag='🇦🇷', name='Argentina', numeric='032', official_name='Argentine Republic')\n",
      "Country(alpha_2='AM', alpha_3='ARM', flag='🇦🇲', name='Armenia', numeric='051', official_name='Republic of Armenia')\n",
      "Country(alpha_2='AW', alpha_3='ABW', flag='🇦🇼', name='Aruba', numeric='533')\n",
      "None\n",
      "None\n",
      "Country(alpha_2='AU', alpha_3='AUS', flag='🇦🇺', name='Australia', numeric='036')\n",
      "Country(alpha_2='AT', alpha_3='AUT', flag='🇦🇹', name='Austria', numeric='040', official_name='Republic of Austria')\n",
      "Country(alpha_2='AZ', alpha_3='AZE', flag='🇦🇿', name='Azerbaijan', numeric='031', official_name='Republic of Azerbaijan')\n",
      "Country(alpha_2='BS', alpha_3='BHS', flag='🇧🇸', name='Bahamas', numeric='044', official_name='Commonwealth of the Bahamas')\n",
      "Country(alpha_2='BH', alpha_3='BHR', flag='🇧🇭', name='Bahrain', numeric='048', official_name='Kingdom of Bahrain')\n",
      "Country(alpha_2='BD', alpha_3='BGD', flag='🇧🇩', name='Bangladesh', numeric='050', official_name=\"People's Republic of Bangladesh\")\n",
      "Country(alpha_2='BB', alpha_3='BRB', flag='🇧🇧', name='Barbados', numeric='052')\n",
      "Country(alpha_2='BY', alpha_3='BLR', flag='🇧🇾', name='Belarus', numeric='112', official_name='Republic of Belarus')\n",
      "Country(alpha_2='BE', alpha_3='BEL', flag='🇧🇪', name='Belgium', numeric='056', official_name='Kingdom of Belgium')\n",
      "Country(alpha_2='BZ', alpha_3='BLZ', flag='🇧🇿', name='Belize', numeric='084')\n",
      "Country(alpha_2='BJ', alpha_3='BEN', flag='🇧🇯', name='Benin', numeric='204', official_name='Republic of Benin')\n",
      "Country(alpha_2='BM', alpha_3='BMU', flag='🇧🇲', name='Bermuda', numeric='060')\n",
      "Country(alpha_2='BT', alpha_3='BTN', flag='🇧🇹', name='Bhutan', numeric='064', official_name='Kingdom of Bhutan')\n",
      "None\n",
      "None\n",
      "Country(alpha_2='BA', alpha_3='BIH', flag='🇧🇦', name='Bosnia and Herzegovina', numeric='070', official_name='Republic of Bosnia and Herzegovina')\n",
      "Country(alpha_2='BW', alpha_3='BWA', flag='🇧🇼', name='Botswana', numeric='072', official_name='Republic of Botswana')\n",
      "Country(alpha_2='BR', alpha_3='BRA', flag='🇧🇷', name='Brazil', numeric='076', official_name='Federative Republic of Brazil')\n",
      "None\n",
      "None\n",
      "Country(alpha_2='BG', alpha_3='BGR', flag='🇧🇬', name='Bulgaria', numeric='100', official_name='Republic of Bulgaria')\n",
      "Country(alpha_2='BF', alpha_3='BFA', flag='🇧🇫', name='Burkina Faso', numeric='854')\n",
      "Country(alpha_2='BI', alpha_3='BDI', flag='🇧🇮', name='Burundi', numeric='108', official_name='Republic of Burundi')\n",
      "Country(alpha_2='KH', alpha_3='KHM', flag='🇰🇭', name='Cambodia', numeric='116', official_name='Kingdom of Cambodia')\n",
      "Country(alpha_2='CM', alpha_3='CMR', flag='🇨🇲', name='Cameroon', numeric='120', official_name='Republic of Cameroon')\n",
      "Country(alpha_2='CA', alpha_3='CAN', flag='🇨🇦', name='Canada', numeric='124')\n",
      "None\n",
      "Country(alpha_2='CF', alpha_3='CAF', flag='🇨🇫', name='Central African Republic', numeric='140')\n",
      "Country(alpha_2='TD', alpha_3='TCD', flag='🇹🇩', name='Chad', numeric='148', official_name='Republic of Chad')\n",
      "Country(alpha_2='CL', alpha_3='CHL', flag='🇨🇱', name='Chile', numeric='152', official_name='Republic of Chile')\n",
      "Country(alpha_2='CN', alpha_3='CHN', flag='🇨🇳', name='China', numeric='156', official_name=\"People's Republic of China\")\n",
      "Country(alpha_2='CX', alpha_3='CXR', flag='🇨🇽', name='Christmas Island', numeric='162')\n",
      "Country(alpha_2='CO', alpha_3='COL', flag='🇨🇴', name='Colombia', numeric='170', official_name='Republic of Colombia')\n",
      "Country(alpha_2='KM', alpha_3='COM', flag='🇰🇲', name='Comoros', numeric='174', official_name='Union of the Comoros')\n",
      "Country(alpha_2='CG', alpha_3='COG', flag='🇨🇬', name='Congo', numeric='178', official_name='Republic of the Congo')\n",
      "Country(alpha_2='CK', alpha_3='COK', flag='🇨🇰', name='Cook Islands', numeric='184')\n",
      "Country(alpha_2='CR', alpha_3='CRI', flag='🇨🇷', name='Costa Rica', numeric='188', official_name='Republic of Costa Rica')\n",
      "None\n",
      "Country(alpha_2='HR', alpha_3='HRV', flag='🇭🇷', name='Croatia', numeric='191', official_name='Republic of Croatia')\n",
      "Country(alpha_2='CU', alpha_3='CUB', flag='🇨🇺', name='Cuba', numeric='192', official_name='Republic of Cuba')\n",
      "None\n",
      "Country(alpha_2='CY', alpha_3='CYP', flag='🇨🇾', name='Cyprus', numeric='196', official_name='Republic of Cyprus')\n",
      "Country(alpha_2='CZ', alpha_3='CZE', flag='🇨🇿', name='Czechia', numeric='203', official_name='Czech Republic')\n",
      "None\n",
      "Country(alpha_2='DK', alpha_3='DNK', flag='🇩🇰', name='Denmark', numeric='208', official_name='Kingdom of Denmark')\n",
      "Country(alpha_2='DJ', alpha_3='DJI', flag='🇩🇯', name='Djibouti', numeric='262', official_name='Republic of Djibouti')\n",
      "Country(alpha_2='DM', alpha_3='DMA', flag='🇩🇲', name='Dominica', numeric='212', official_name='Commonwealth of Dominica')\n",
      "Country(alpha_2='DO', alpha_3='DOM', flag='🇩🇴', name='Dominican Republic', numeric='214')\n",
      "Country(alpha_2='EC', alpha_3='ECU', flag='🇪🇨', name='Ecuador', numeric='218', official_name='Republic of Ecuador')\n",
      "Country(alpha_2='EG', alpha_3='EGY', flag='🇪🇬', name='Egypt', numeric='818', official_name='Arab Republic of Egypt')\n",
      "Country(alpha_2='SV', alpha_3='SLV', flag='🇸🇻', name='El Salvador', numeric='222', official_name='Republic of El Salvador')\n",
      "Country(alpha_2='GQ', alpha_3='GNQ', flag='🇬🇶', name='Equatorial Guinea', numeric='226', official_name='Republic of Equatorial Guinea')\n",
      "Country(alpha_2='ER', alpha_3='ERI', flag='🇪🇷', name='Eritrea', numeric='232', official_name='the State of Eritrea')\n",
      "Country(alpha_2='EE', alpha_3='EST', flag='🇪🇪', name='Estonia', numeric='233', official_name='Republic of Estonia')\n",
      "Country(alpha_2='SZ', alpha_3='SWZ', flag='🇸🇿', name='Eswatini', numeric='748', official_name='Kingdom of Eswatini')\n",
      "Country(alpha_2='ET', alpha_3='ETH', flag='🇪🇹', name='Ethiopia', numeric='231', official_name='Federal Democratic Republic of Ethiopia')\n",
      "None\n",
      "None\n",
      "None\n",
      "None\n",
      "None\n",
      "None\n",
      "Country(alpha_2='FJ', alpha_3='FJI', flag='🇫🇯', name='Fiji', numeric='242', official_name='Republic of Fiji')\n",
      "Country(alpha_2='FI', alpha_3='FIN', flag='🇫🇮', name='Finland', numeric='246', official_name='Republic of Finland')\n",
      "Country(alpha_2='FR', alpha_3='FRA', flag='🇫🇷', name='France', numeric='250', official_name='French Republic')\n",
      "None\n",
      "Country(alpha_2='GF', alpha_3='GUF', flag='🇬🇫', name='French Guiana', numeric='254')\n",
      "Country(alpha_2='PF', alpha_3='PYF', flag='🇵🇫', name='French Polynesia', numeric='258')\n",
      "None\n",
      "Country(alpha_2='GA', alpha_3='GAB', flag='🇬🇦', name='Gabon', numeric='266', official_name='Gabonese Republic')\n",
      "Country(alpha_2='GM', alpha_3='GMB', flag='🇬🇲', name='Gambia', numeric='270', official_name='Republic of the Gambia')\n",
      "Country(alpha_2='GE', alpha_3='GEO', flag='🇬🇪', name='Georgia', numeric='268')\n",
      "Country(alpha_2='DE', alpha_3='DEU', flag='🇩🇪', name='Germany', numeric='276', official_name='Federal Republic of Germany')\n",
      "Country(alpha_2='GH', alpha_3='GHA', flag='🇬🇭', name='Ghana', numeric='288', official_name='Republic of Ghana')\n",
      "Country(alpha_2='GR', alpha_3='GRC', flag='🇬🇷', name='Greece', numeric='300', official_name='Hellenic Republic')\n",
      "Country(alpha_2='GL', alpha_3='GRL', flag='🇬🇱', name='Greenland', numeric='304')\n",
      "Country(alpha_2='GD', alpha_3='GRD', flag='🇬🇩', name='Grenada', numeric='308')\n",
      "Country(alpha_2='GP', alpha_3='GLP', flag='🇬🇵', name='Guadeloupe', numeric='312')\n",
      "Country(alpha_2='GT', alpha_3='GTM', flag='🇬🇹', name='Guatemala', numeric='320', official_name='Republic of Guatemala')\n",
      "Country(alpha_2='GN', alpha_3='GIN', flag='🇬🇳', name='Guinea', numeric='324', official_name='Republic of Guinea')\n",
      "Country(alpha_2='GW', alpha_3='GNB', flag='🇬🇼', name='Guinea-Bissau', numeric='624', official_name='Republic of Guinea-Bissau')\n",
      "Country(alpha_2='GY', alpha_3='GUY', flag='🇬🇾', name='Guyana', numeric='328', official_name='Republic of Guyana')\n",
      "Country(alpha_2='HT', alpha_3='HTI', flag='🇭🇹', name='Haiti', numeric='332', official_name='Republic of Haiti')\n",
      "None\n",
      "Country(alpha_2='HN', alpha_3='HND', flag='🇭🇳', name='Honduras', numeric='340', official_name='Republic of Honduras')\n",
      "Country(alpha_2='HK', alpha_3='HKG', flag='🇭🇰', name='Hong Kong', numeric='344', official_name='Hong Kong Special Administrative Region of China')\n",
      "Country(alpha_2='HU', alpha_3='HUN', flag='🇭🇺', name='Hungary', numeric='348', official_name='Hungary')\n",
      "Country(alpha_2='IS', alpha_3='ISL', flag='🇮🇸', name='Iceland', numeric='352', official_name='Republic of Iceland')\n",
      "Country(alpha_2='IN', alpha_3='IND', flag='🇮🇳', name='India', numeric='356', official_name='Republic of India')\n",
      "Country(alpha_2='ID', alpha_3='IDN', flag='🇮🇩', name='Indonesia', numeric='360', official_name='Republic of Indonesia')\n",
      "None\n",
      "None\n",
      "Country(alpha_2='IQ', alpha_3='IRQ', flag='🇮🇶', name='Iraq', numeric='368', official_name='Republic of Iraq')\n",
      "Country(alpha_2='IE', alpha_3='IRL', flag='🇮🇪', name='Ireland', numeric='372')\n",
      "Country(alpha_2='IL', alpha_3='ISR', flag='🇮🇱', name='Israel', numeric='376', official_name='State of Israel')\n",
      "Country(alpha_2='IT', alpha_3='ITA', flag='🇮🇹', name='Italy', numeric='380', official_name='Italian Republic')\n",
      "Country(alpha_2='JM', alpha_3='JAM', flag='🇯🇲', name='Jamaica', numeric='388')\n",
      "Country(alpha_2='JP', alpha_3='JPN', flag='🇯🇵', name='Japan', numeric='392')\n",
      "Country(alpha_2='JO', alpha_3='JOR', flag='🇯🇴', name='Jordan', numeric='400', official_name='Hashemite Kingdom of Jordan')\n",
      "Country(alpha_2='KZ', alpha_3='KAZ', flag='🇰🇿', name='Kazakhstan', numeric='398', official_name='Republic of Kazakhstan')\n",
      "Country(alpha_2='KE', alpha_3='KEN', flag='🇰🇪', name='Kenya', numeric='404', official_name='Republic of Kenya')\n",
      "Country(alpha_2='KI', alpha_3='KIR', flag='🇰🇮', name='Kiribati', numeric='296', official_name='Republic of Kiribati')\n",
      "None\n",
      "Country(alpha_2='KW', alpha_3='KWT', flag='🇰🇼', name='Kuwait', numeric='414', official_name='State of Kuwait')\n",
      "None\n",
      "Country(alpha_2='KG', alpha_3='KGZ', flag='🇰🇬', name='Kyrgyzstan', numeric='417', official_name='Kyrgyz Republic')\n",
      "None\n",
      "Country(alpha_2='LV', alpha_3='LVA', flag='🇱🇻', name='Latvia', numeric='428', official_name='Republic of Latvia')\n",
      "Country(alpha_2='LB', alpha_3='LBN', flag='🇱🇧', name='Lebanon', numeric='422', official_name='Lebanese Republic')\n",
      "None\n",
      "Country(alpha_2='LS', alpha_3='LSO', flag='🇱🇸', name='Lesotho', numeric='426', official_name='Kingdom of Lesotho')\n",
      "Country(alpha_2='LR', alpha_3='LBR', flag='🇱🇷', name='Liberia', numeric='430', official_name='Republic of Liberia')\n",
      "Country(alpha_2='LY', alpha_3='LBY', flag='🇱🇾', name='Libya', numeric='434', official_name='Libya')\n",
      "Country(alpha_2='LI', alpha_3='LIE', flag='🇱🇮', name='Liechtenstein', numeric='438', official_name='Principality of Liechtenstein')\n",
      "Country(alpha_2='LT', alpha_3='LTU', flag='🇱🇹', name='Lithuania', numeric='440', official_name='Republic of Lithuania')\n",
      "None\n",
      "None\n",
      "Country(alpha_2='LU', alpha_3='LUX', flag='🇱🇺', name='Luxembourg', numeric='442', official_name='Grand Duchy of Luxembourg')\n",
      "Country(alpha_2='MO', alpha_3='MAC', flag='🇲🇴', name='Macao', numeric='446', official_name='Macao Special Administrative Region of China')\n",
      "Country(alpha_2='MG', alpha_3='MDG', flag='🇲🇬', name='Madagascar', numeric='450', official_name='Republic of Madagascar')\n",
      "Country(alpha_2='MW', alpha_3='MWI', flag='🇲🇼', name='Malawi', numeric='454', official_name='Republic of Malawi')\n",
      "Country(alpha_2='MY', alpha_3='MYS', flag='🇲🇾', name='Malaysia', numeric='458')\n",
      "Country(alpha_2='MV', alpha_3='MDV', flag='🇲🇻', name='Maldives', numeric='462', official_name='Republic of Maldives')\n",
      "Country(alpha_2='ML', alpha_3='MLI', flag='🇲🇱', name='Mali', numeric='466', official_name='Republic of Mali')\n",
      "Country(alpha_2='MT', alpha_3='MLT', flag='🇲🇹', name='Malta', numeric='470', official_name='Republic of Malta')\n",
      "Country(alpha_2='MH', alpha_3='MHL', flag='🇲🇭', name='Marshall Islands', numeric='584', official_name='Republic of the Marshall Islands')\n",
      "Country(alpha_2='MQ', alpha_3='MTQ', flag='🇲🇶', name='Martinique', numeric='474')\n",
      "Country(alpha_2='MR', alpha_3='MRT', flag='🇲🇷', name='Mauritania', numeric='478', official_name='Islamic Republic of Mauritania')\n",
      "Country(alpha_2='MU', alpha_3='MUS', flag='🇲🇺', name='Mauritius', numeric='480', official_name='Republic of Mauritius')\n",
      "Country(alpha_2='YT', alpha_3='MYT', flag='🇾🇹', name='Mayotte', numeric='175')\n",
      "Country(alpha_2='MX', alpha_3='MEX', flag='🇲🇽', name='Mexico', numeric='484', official_name='United Mexican States')\n",
      "None\n",
      "None\n",
      "Country(alpha_2='MN', alpha_3='MNG', flag='🇲🇳', name='Mongolia', numeric='496')\n",
      "Country(alpha_2='ME', alpha_3='MNE', flag='🇲🇪', name='Montenegro', numeric='499', official_name='Montenegro')\n",
      "Country(alpha_2='MS', alpha_3='MSR', flag='🇲🇸', name='Montserrat', numeric='500')\n",
      "Country(alpha_2='MA', alpha_3='MAR', flag='🇲🇦', name='Morocco', numeric='504', official_name='Kingdom of Morocco')\n",
      "Country(alpha_2='MZ', alpha_3='MOZ', flag='🇲🇿', name='Mozambique', numeric='508', official_name='Republic of Mozambique')\n",
      "Country(alpha_2='MM', alpha_3='MMR', flag='🇲🇲', name='Myanmar', numeric='104', official_name='Republic of Myanmar')\n",
      "Country(alpha_2='NA', alpha_3='NAM', flag='🇳🇦', name='Namibia', numeric='516', official_name='Republic of Namibia')\n",
      "Country(alpha_2='NR', alpha_3='NRU', flag='🇳🇷', name='Nauru', numeric='520', official_name='Republic of Nauru')\n",
      "Country(alpha_2='NP', alpha_3='NPL', flag='🇳🇵', name='Nepal', numeric='524', official_name='Federal Democratic Republic of Nepal')\n",
      "Country(alpha_2='NL', alpha_3='NLD', flag='🇳🇱', name='Netherlands', numeric='528', official_name='Kingdom of the Netherlands')\n",
      "Country(alpha_2='NC', alpha_3='NCL', flag='🇳🇨', name='New Caledonia', numeric='540')\n",
      "Country(alpha_2='NZ', alpha_3='NZL', flag='🇳🇿', name='New Zealand', numeric='554')\n",
      "Country(alpha_2='NI', alpha_3='NIC', flag='🇳🇮', name='Nicaragua', numeric='558', official_name='Republic of Nicaragua')\n",
      "Country(alpha_2='NE', alpha_3='NER', flag='🇳🇪', name='Niger', numeric='562', official_name='Republic of the Niger')\n",
      "Country(alpha_2='NG', alpha_3='NGA', flag='🇳🇬', name='Nigeria', numeric='566', official_name='Federal Republic of Nigeria')\n",
      "Country(alpha_2='NU', alpha_3='NIU', flag='🇳🇺', name='Niue', numeric='570', official_name='Niue')\n",
      "None\n",
      "None\n",
      "None\n",
      "Country(alpha_2='MK', alpha_3='MKD', flag='🇲🇰', name='North Macedonia', numeric='807', official_name='Republic of North Macedonia')\n",
      "Country(alpha_2='NO', alpha_3='NOR', flag='🇳🇴', name='Norway', numeric='578', official_name='Kingdom of Norway')\n",
      "None\n",
      "Country(alpha_2='OM', alpha_3='OMN', flag='🇴🇲', name='Oman', numeric='512', official_name='Sultanate of Oman')\n",
      "Country(alpha_2='PK', alpha_3='PAK', flag='🇵🇰', name='Pakistan', numeric='586', official_name='Islamic Republic of Pakistan')\n",
      "Country(alpha_2='PW', alpha_3='PLW', flag='🇵🇼', name='Palau', numeric='585', official_name='Republic of Palau')\n",
      "None\n",
      "Country(alpha_2='PA', alpha_3='PAN', flag='🇵🇦', name='Panama', numeric='591', official_name='Republic of Panama')\n",
      "None\n",
      "Country(alpha_2='PG', alpha_3='PNG', flag='🇵🇬', name='Papua New Guinea', numeric='598', official_name='Independent State of Papua New Guinea')\n",
      "Country(alpha_2='PY', alpha_3='PRY', flag='🇵🇾', name='Paraguay', numeric='600', official_name='Republic of Paraguay')\n",
      "Country(alpha_2='PE', alpha_3='PER', flag='🇵🇪', name='Peru', numeric='604', official_name='Republic of Peru')\n",
      "Country(alpha_2='PH', alpha_3='PHL', flag='🇵🇭', name='Philippines', numeric='608', official_name='Republic of the Philippines')\n",
      "Country(alpha_2='PL', alpha_3='POL', flag='🇵🇱', name='Poland', numeric='616', official_name='Republic of Poland')\n",
      "Country(alpha_2='PT', alpha_3='PRT', flag='🇵🇹', name='Portugal', numeric='620', official_name='Portuguese Republic')\n",
      "Country(alpha_2='PR', alpha_3='PRI', flag='🇵🇷', name='Puerto Rico', numeric='630')\n",
      "Country(alpha_2='QA', alpha_3='QAT', flag='🇶🇦', name='Qatar', numeric='634', official_name='State of Qatar')\n",
      "None\n",
      "Country(alpha_2='RO', alpha_3='ROU', flag='🇷🇴', name='Romania', numeric='642')\n",
      "None\n",
      "Country(alpha_2='RW', alpha_3='RWA', flag='🇷🇼', name='Rwanda', numeric='646', official_name='Rwandese Republic')\n",
      "None\n",
      "None\n",
      "Country(alpha_2='KN', alpha_3='KNA', flag='🇰🇳', name='Saint Kitts and Nevis', numeric='659')\n",
      "Country(alpha_2='LC', alpha_3='LCA', flag='🇱🇨', name='Saint Lucia', numeric='662')\n",
      "Country(alpha_2='PM', alpha_3='SPM', flag='🇵🇲', name='Saint Pierre and Miquelon', numeric='666')\n",
      "Country(alpha_2='VC', alpha_3='VCT', flag='🇻🇨', name='Saint Vincent and the Grenadines', numeric='670')\n",
      "Country(alpha_2='WS', alpha_3='WSM', flag='🇼🇸', name='Samoa', numeric='882', official_name='Independent State of Samoa')\n",
      "Country(alpha_2='ST', alpha_3='STP', flag='🇸🇹', name='Sao Tome and Principe', numeric='678', official_name='Democratic Republic of Sao Tome and Principe')\n",
      "Country(alpha_2='SA', alpha_3='SAU', flag='🇸🇦', name='Saudi Arabia', numeric='682', official_name='Kingdom of Saudi Arabia')\n",
      "Country(alpha_2='SN', alpha_3='SEN', flag='🇸🇳', name='Senegal', numeric='686', official_name='Republic of Senegal')\n",
      "Country(alpha_2='RS', alpha_3='SRB', flag='🇷🇸', name='Serbia', numeric='688', official_name='Republic of Serbia')\n",
      "Country(alpha_2='SC', alpha_3='SYC', flag='🇸🇨', name='Seychelles', numeric='690', official_name='Republic of Seychelles')\n",
      "Country(alpha_2='SL', alpha_3='SLE', flag='🇸🇱', name='Sierra Leone', numeric='694', official_name='Republic of Sierra Leone')\n",
      "Country(alpha_2='SG', alpha_3='SGP', flag='🇸🇬', name='Singapore', numeric='702', official_name='Republic of Singapore')\n",
      "Country(alpha_2='SX', alpha_3='SXM', flag='🇸🇽', name='Sint Maarten (Dutch part)', numeric='534', official_name='Sint Maarten (Dutch part)')\n",
      "Country(alpha_2='SK', alpha_3='SVK', flag='🇸🇰', name='Slovakia', numeric='703', official_name='Slovak Republic')\n",
      "Country(alpha_2='SI', alpha_3='SVN', flag='🇸🇮', name='Slovenia', numeric='705', official_name='Republic of Slovenia')\n",
      "Country(alpha_2='SB', alpha_3='SLB', flag='🇸🇧', name='Solomon Islands', numeric='090')\n",
      "Country(alpha_2='SO', alpha_3='SOM', flag='🇸🇴', name='Somalia', numeric='706', official_name='Federal Republic of Somalia')\n",
      "Country(alpha_2='ZA', alpha_3='ZAF', flag='🇿🇦', name='South Africa', numeric='710', official_name='Republic of South Africa')\n",
      "None\n",
      "None\n",
      "Country(alpha_2='SS', alpha_3='SSD', flag='🇸🇸', name='South Sudan', numeric='728', official_name='Republic of South Sudan')\n",
      "Country(alpha_2='ES', alpha_3='ESP', flag='🇪🇸', name='Spain', numeric='724', official_name='Kingdom of Spain')\n",
      "Country(alpha_2='LK', alpha_3='LKA', flag='🇱🇰', name='Sri Lanka', numeric='144', official_name='Democratic Socialist Republic of Sri Lanka')\n",
      "None\n",
      "Country(alpha_2='SD', alpha_3='SDN', flag='🇸🇩', name='Sudan', numeric='729', official_name='Republic of the Sudan')\n",
      "Country(alpha_2='SR', alpha_3='SUR', flag='🇸🇷', name='Suriname', numeric='740', official_name='Republic of Suriname')\n",
      "Country(alpha_2='SE', alpha_3='SWE', flag='🇸🇪', name='Sweden', numeric='752', official_name='Kingdom of Sweden')\n",
      "Country(alpha_2='CH', alpha_3='CHE', flag='🇨🇭', name='Switzerland', numeric='756', official_name='Swiss Confederation')\n",
      "None\n",
      "None\n",
      "Country(alpha_2='TJ', alpha_3='TJK', flag='🇹🇯', name='Tajikistan', numeric='762', official_name='Republic of Tajikistan')\n",
      "None\n",
      "Country(alpha_2='TH', alpha_3='THA', flag='🇹🇭', name='Thailand', numeric='764', official_name='Kingdom of Thailand')\n",
      "None\n",
      "Country(alpha_2='TG', alpha_3='TGO', flag='🇹🇬', name='Togo', numeric='768', official_name='Togolese Republic')\n",
      "Country(alpha_2='TO', alpha_3='TON', flag='🇹🇴', name='Tonga', numeric='776', official_name='Kingdom of Tonga')\n",
      "Country(alpha_2='TT', alpha_3='TTO', flag='🇹🇹', name='Trinidad and Tobago', numeric='780', official_name='Republic of Trinidad and Tobago')\n",
      "Country(alpha_2='TN', alpha_3='TUN', flag='🇹🇳', name='Tunisia', numeric='788', official_name='Republic of Tunisia')\n",
      "Country(alpha_2='TR', alpha_3='TUR', flag='🇹🇷', name='Turkey', numeric='792', official_name='Republic of Turkey')\n",
      "Country(alpha_2='TM', alpha_3='TKM', flag='🇹🇲', name='Turkmenistan', numeric='795')\n",
      "Country(alpha_2='TC', alpha_3='TCA', flag='🇹🇨', name='Turks and Caicos Islands', numeric='796')\n",
      "Country(alpha_2='TV', alpha_3='TUV', flag='🇹🇻', name='Tuvalu', numeric='798')\n",
      "Country(alpha_2='UG', alpha_3='UGA', flag='🇺🇬', name='Uganda', numeric='800', official_name='Republic of Uganda')\n",
      "Country(alpha_2='UA', alpha_3='UKR', flag='🇺🇦', name='Ukraine', numeric='804')\n",
      "Country(alpha_2='AE', alpha_3='ARE', flag='🇦🇪', name='United Arab Emirates', numeric='784')\n",
      "Country(alpha_2='GB', alpha_3='GBR', flag='🇬🇧', name='United Kingdom', numeric='826', official_name='United Kingdom of Great Britain and Northern Ireland')\n",
      "Country(alpha_2='US', alpha_3='USA', flag='🇺🇸', name='United States', numeric='840', official_name='United States of America')\n",
      "None\n",
      "Country(alpha_2='UY', alpha_3='URY', flag='🇺🇾', name='Uruguay', numeric='858', official_name='Eastern Republic of Uruguay')\n",
      "Country(alpha_2='UZ', alpha_3='UZB', flag='🇺🇿', name='Uzbekistan', numeric='860', official_name='Republic of Uzbekistan')\n",
      "Country(alpha_2='VU', alpha_3='VUT', flag='🇻🇺', name='Vanuatu', numeric='548', official_name='Republic of Vanuatu')\n",
      "None\n",
      "None\n",
      "Country(alpha_2='WF', alpha_3='WLF', flag='🇼🇫', name='Wallis and Futuna', numeric='876')\n",
      "None\n",
      "Country(alpha_2='YE', alpha_3='YEM', flag='🇾🇪', name='Yemen', numeric='887', official_name='Republic of Yemen')\n",
      "Country(alpha_2='ZM', alpha_3='ZMB', flag='🇿🇲', name='Zambia', numeric='894', official_name='Republic of Zambia')\n",
      "Country(alpha_2='ZW', alpha_3='ZWE', flag='🇿🇼', name='Zimbabwe', numeric='716', official_name='Republic of Zimbabwe')\n"
     ]
    }
   ],
   "source": [
    "for country in data_subset[\"country\"].unique():\n",
    "    try:\n",
    "        print(get_location_from_country_name(country))\n",
    "    except Exception as ex:\n",
    "        print(ex)"
   ],
   "metadata": {
    "collapsed": false,
    "pycharm": {
     "name": "#%%\n"
    }
   }
  },
  {
   "cell_type": "markdown",
   "source": [
    "### Add location Column and remove missing values"
   ],
   "metadata": {
    "collapsed": false,
    "pycharm": {
     "name": "#%% md\n"
    }
   }
  },
  {
   "cell_type": "code",
   "execution_count": 12,
   "outputs": [],
   "source": [
    "data_subset = add_lat_and_long_to_df(data_subset)\n",
    "data_subset = add_continent_to_df(data_subset)"
   ],
   "metadata": {
    "collapsed": false,
    "pycharm": {
     "name": "#%%\n"
    }
   }
  },
  {
   "cell_type": "code",
   "execution_count": 13,
   "outputs": [],
   "source": [
    "data_subset.dropna(subset=[\"lat\", \"long\", \"continent\"], inplace=True)"
   ],
   "metadata": {
    "collapsed": false,
    "pycharm": {
     "name": "#%%\n"
    }
   }
  },
  {
   "cell_type": "code",
   "execution_count": 14,
   "outputs": [
    {
     "data": {
      "text/plain": "country                                   0\nyear                                      0\niso_code                                  0\npopulation                              167\ngdp                                    7823\ncement_co2                            10398\ncement_co2_per_capita                 10398\nco2                                     839\nco2_growth_abs                         1159\nco2_growth_prct                         244\nco2_per_capita                          941\nco2_per_gdp                            7945\nco2_per_unit_energy                   12403\ncoal_co2                               6881\ncoal_co2_per_capita                    6948\ncumulative_cement_co2                 10398\ncumulative_co2                          839\ncumulative_coal_co2                    6881\ncumulative_gas_co2                    13758\ncumulative_oil_co2                     3438\nenergy_per_capita                     12296\ngas_co2                               13758\ngas_co2_per_capita                    13758\noil_co2                                3438\noil_co2_per_capita                     3473\nprimary_energy_consumption            12296\nshare_global_cement_co2               10398\nshare_global_co2                        839\nshare_global_coal_co2                  6881\nshare_global_cumulative_cement_co2    10398\nshare_global_cumulative_co2             839\nshare_global_cumulative_coal_co2       6881\nshare_global_cumulative_gas_co2       13758\nshare_global_cumulative_oil_co2        3438\nshare_global_gas_co2                  13758\nshare_global_oil_co2                   3438\nlat                                       0\nlong                                      0\ncontinent                                 0\ndtype: int64"
     },
     "execution_count": 14,
     "metadata": {},
     "output_type": "execute_result"
    }
   ],
   "source": [
    "data_subset.isna().sum()"
   ],
   "metadata": {
    "collapsed": false,
    "pycharm": {
     "name": "#%%\n"
    }
   }
  },
  {
   "cell_type": "code",
   "execution_count": 15,
   "outputs": [
    {
     "data": {
      "text/plain": "['population',\n 'gdp',\n 'cement_co2',\n 'cement_co2_per_capita',\n 'co2',\n 'co2_growth_abs',\n 'co2_growth_prct',\n 'co2_per_capita',\n 'co2_per_gdp',\n 'co2_per_unit_energy',\n 'coal_co2',\n 'coal_co2_per_capita',\n 'cumulative_cement_co2',\n 'cumulative_co2',\n 'cumulative_coal_co2',\n 'cumulative_gas_co2',\n 'cumulative_oil_co2',\n 'energy_per_capita',\n 'gas_co2',\n 'gas_co2_per_capita',\n 'oil_co2',\n 'oil_co2_per_capita',\n 'primary_energy_consumption',\n 'share_global_cement_co2',\n 'share_global_co2',\n 'share_global_coal_co2',\n 'share_global_cumulative_cement_co2',\n 'share_global_cumulative_co2',\n 'share_global_cumulative_coal_co2',\n 'share_global_cumulative_gas_co2',\n 'share_global_cumulative_oil_co2',\n 'share_global_gas_co2',\n 'share_global_oil_co2']"
     },
     "execution_count": 15,
     "metadata": {},
     "output_type": "execute_result"
    }
   ],
   "source": [
    "get_cols_with_nan_values(data_subset)"
   ],
   "metadata": {
    "collapsed": false,
    "pycharm": {
     "name": "#%%\n"
    }
   }
  },
  {
   "cell_type": "code",
   "execution_count": 17,
   "outputs": [
    {
     "name": "stdout",
     "output_type": "stream",
     "text": [
      "Removing missing values using `mean` method\n",
      "country                               0\n",
      "year                                  0\n",
      "iso_code                              0\n",
      "population                            0\n",
      "gdp                                   0\n",
      "cement_co2                            0\n",
      "cement_co2_per_capita                 0\n",
      "co2                                   0\n",
      "co2_growth_abs                        0\n",
      "co2_growth_prct                       0\n",
      "co2_per_capita                        0\n",
      "co2_per_gdp                           0\n",
      "co2_per_unit_energy                   0\n",
      "coal_co2                              0\n",
      "coal_co2_per_capita                   0\n",
      "cumulative_cement_co2                 0\n",
      "cumulative_co2                        0\n",
      "cumulative_coal_co2                   0\n",
      "cumulative_gas_co2                    0\n",
      "cumulative_oil_co2                    0\n",
      "energy_per_capita                     0\n",
      "gas_co2                               0\n",
      "gas_co2_per_capita                    0\n",
      "oil_co2                               0\n",
      "oil_co2_per_capita                    0\n",
      "primary_energy_consumption            0\n",
      "share_global_cement_co2               0\n",
      "share_global_co2                      0\n",
      "share_global_coal_co2                 0\n",
      "share_global_cumulative_cement_co2    0\n",
      "share_global_cumulative_co2           0\n",
      "share_global_cumulative_coal_co2      0\n",
      "share_global_cumulative_gas_co2       0\n",
      "share_global_cumulative_oil_co2       0\n",
      "share_global_gas_co2                  0\n",
      "share_global_oil_co2                  0\n",
      "lat                                   0\n",
      "long                                  0\n",
      "continent                             0\n",
      "dtype: int64\n",
      "Removing missing values using `row` method\n"
     ]
    },
    {
     "name": "stderr",
     "output_type": "stream",
     "text": [
      "/Users/haruiz/Workspace/STAT650/midterm/utils.py:275: FutureWarning: Dropping of nuisance columns in DataFrame reductions (with 'numeric_only=None') is deprecated; in a future version this will raise TypeError.  Select only valid columns before calling the reduction.\n",
      "  rows_mean = rows.mean(axis=1)\n"
     ]
    },
    {
     "name": "stdout",
     "output_type": "stream",
     "text": [
      "country                               0\n",
      "year                                  0\n",
      "iso_code                              0\n",
      "population                            0\n",
      "gdp                                   0\n",
      "cement_co2                            0\n",
      "cement_co2_per_capita                 0\n",
      "co2                                   0\n",
      "co2_growth_abs                        0\n",
      "co2_growth_prct                       0\n",
      "co2_per_capita                        0\n",
      "co2_per_gdp                           0\n",
      "co2_per_unit_energy                   0\n",
      "coal_co2                              0\n",
      "coal_co2_per_capita                   0\n",
      "cumulative_cement_co2                 0\n",
      "cumulative_co2                        0\n",
      "cumulative_coal_co2                   0\n",
      "cumulative_gas_co2                    0\n",
      "cumulative_oil_co2                    0\n",
      "energy_per_capita                     0\n",
      "gas_co2                               0\n",
      "gas_co2_per_capita                    0\n",
      "oil_co2                               0\n",
      "oil_co2_per_capita                    0\n",
      "primary_energy_consumption            0\n",
      "share_global_cement_co2               0\n",
      "share_global_co2                      0\n",
      "share_global_coal_co2                 0\n",
      "share_global_cumulative_cement_co2    0\n",
      "share_global_cumulative_co2           0\n",
      "share_global_cumulative_coal_co2      0\n",
      "share_global_cumulative_gas_co2       0\n",
      "share_global_cumulative_oil_co2       0\n",
      "share_global_gas_co2                  0\n",
      "share_global_oil_co2                  0\n",
      "lat                                   0\n",
      "long                                  0\n",
      "continent                             0\n",
      "dtype: int64\n",
      "Removing missing values using `drop` method\n",
      "country                               0\n",
      "year                                  0\n",
      "iso_code                              0\n",
      "population                            0\n",
      "gdp                                   0\n",
      "cement_co2                            0\n",
      "cement_co2_per_capita                 0\n",
      "co2                                   0\n",
      "co2_growth_abs                        0\n",
      "co2_growth_prct                       0\n",
      "co2_per_capita                        0\n",
      "co2_per_gdp                           0\n",
      "co2_per_unit_energy                   0\n",
      "coal_co2                              0\n",
      "coal_co2_per_capita                   0\n",
      "cumulative_cement_co2                 0\n",
      "cumulative_co2                        0\n",
      "cumulative_coal_co2                   0\n",
      "cumulative_gas_co2                    0\n",
      "cumulative_oil_co2                    0\n",
      "energy_per_capita                     0\n",
      "gas_co2                               0\n",
      "gas_co2_per_capita                    0\n",
      "oil_co2                               0\n",
      "oil_co2_per_capita                    0\n",
      "primary_energy_consumption            0\n",
      "share_global_cement_co2               0\n",
      "share_global_co2                      0\n",
      "share_global_coal_co2                 0\n",
      "share_global_cumulative_cement_co2    0\n",
      "share_global_cumulative_co2           0\n",
      "share_global_cumulative_coal_co2      0\n",
      "share_global_cumulative_gas_co2       0\n",
      "share_global_cumulative_oil_co2       0\n",
      "share_global_gas_co2                  0\n",
      "share_global_oil_co2                  0\n",
      "lat                                   0\n",
      "long                                  0\n",
      "continent                             0\n",
      "dtype: int64\n"
     ]
    }
   ],
   "source": [
    "for remove_missing_val_method in [\"mean\", \"row\", \"drop\"]:\n",
    "    print(f\"Removing missing values using `{remove_missing_val_method}` method\")\n",
    "    out_df = remove_missing_values(data_subset, method=remove_missing_val_method)\n",
    "    out_df.to_csv(f\"data_{remove_missing_val_method}.csv\", index=False)\n",
    "    print(out_df.isna().sum())"
   ],
   "metadata": {
    "collapsed": false,
    "pycharm": {
     "name": "#%%\n"
    }
   }
  },
  {
   "cell_type": "markdown",
   "source": [],
   "metadata": {
    "collapsed": false,
    "pycharm": {
     "name": "#%% md\n"
    }
   }
  }
 ],
 "metadata": {
  "kernelspec": {
   "display_name": "Python 3",
   "language": "python",
   "name": "python3"
  },
  "language_info": {
   "codemirror_mode": {
    "name": "ipython",
    "version": 2
   },
   "file_extension": ".py",
   "mimetype": "text/x-python",
   "name": "python",
   "nbconvert_exporter": "python",
   "pygments_lexer": "ipython2",
   "version": "2.7.6"
  }
 },
 "nbformat": 4,
 "nbformat_minor": 0
}